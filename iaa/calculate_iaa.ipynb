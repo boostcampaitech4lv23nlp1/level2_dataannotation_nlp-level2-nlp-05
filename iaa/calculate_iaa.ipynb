{
 "cells": [
  {
   "cell_type": "code",
   "execution_count": 2,
   "id": "5ab31395-9074-446d-b31b-0f77301d0fa1",
   "metadata": {},
   "outputs": [],
   "source": [
    "import pandas as pd\n",
    "import numpy as np\n",
    "from fleiss import fleissKappa"
   ]
  },
  {
   "cell_type": "code",
   "execution_count": 3,
   "id": "99880e45-72d3-40d6-b8ee-2489dd69ceaf",
   "metadata": {},
   "outputs": [
    {
     "name": "stdout",
     "output_type": "stream",
     "text": [
      "#raters =  5 , #subjects =  1019 , #categories =  10\n",
      "PA =  0.889597644749756\n",
      "PE = 0.26588059451385404\n",
      "Fleiss' Kappa = 0.85\n"
     ]
    }
   ],
   "source": [
    "result = pd.read_excel('iaa_sample.xlsx', engine='openpyxl')\n",
    "result = result.to_numpy()\n",
    "num_classes = int(np.max(result))\n",
    "\n",
    "transformed_result = []\n",
    "for i in range(len(result)):\n",
    "    temp = np.zeros(num_classes)\n",
    "    for j in range(len(result[i])):\n",
    "        temp[int(result[i][j]-1)] += 1\n",
    "    transformed_result.append(temp.astype(int).tolist())\n",
    "\n",
    "kappa = fleissKappa(transformed_result, len(result[0]))"
   ]
  },
  {
   "cell_type": "code",
   "execution_count": null,
   "id": "eae42129-78aa-43b6-af18-337f71fa5146",
   "metadata": {},
   "outputs": [],
   "source": []
  }
 ],
 "metadata": {
  "kernelspec": {
   "display_name": "Python 3 (ipykernel)",
   "language": "python",
   "name": "python3"
  },
  "language_info": {
   "codemirror_mode": {
    "name": "ipython",
    "version": 3
   },
   "file_extension": ".py",
   "mimetype": "text/x-python",
   "name": "python",
   "nbconvert_exporter": "python",
   "pygments_lexer": "ipython3",
   "version": "3.9.13"
  }
 },
 "nbformat": 4,
 "nbformat_minor": 5
}
